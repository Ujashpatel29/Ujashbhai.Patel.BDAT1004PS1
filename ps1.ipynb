{
 "cells": [
  {
   "cell_type": "markdown",
   "id": "ff8a7b07-bf5b-4742-940f-df053979c405",
   "metadata": {},
   "source": [
    "Question 1 C#\r\n",
    "What data type is each of the following?"
   ]
  },
  {
   "cell_type": "markdown",
   "id": "5a51829c-d11a-4527-8c4a-8d50fdb97715",
   "metadata": {},
   "source": [
    "1. 5: 'int' (Integer)\n",
    "\n",
    "2. 5.0: 'double' (Double-precision floating-point number)\n",
    "\n",
    "3. 5 > 1: 'bool' (Boolean)\n",
    "\n",
    "4. '5': 'char' (Character)\n",
    "\n",
    "5. 5 * 2: 'int' (Integer)\n",
    "\n",
    "6. '5' * 2: This will result in an 'int'. In C#, multiplying a 'char' by an integer returns the ASCII value of the character ('5' is 53) multiplied by 2, result is 106.\n",
    "\n",
    "7. '5' + '2': This will result in an 'int' because adding two 'char' values in C# combines their ASCII values. ('5' is 53, '2' is 50, so 53 + 50 = 103')\n",
    "\n",
    "8. 5 / 2: 'int' (Integer). In C#, this will perform integer division.\n",
    "\n",
    "9. 5 % 2: 'int' (Integer). \n",
    "\n",
    "10. {5, 2, 1}: (array of integers) example. int[] numbers = {5, 2, 1};\r\n",
    "\n",
    "11. 5 == 3: 'bool (Boolean).'True' or 'False'.\n",
    "\n",
    "12. Pi (the number): 'double' (Double-precision floating-point number). In C# itu can access this using'`Math.P'`."
   ]
  },
  {
   "cell_type": "markdown",
   "id": "46824caf-230b-4f47-959a-aec7c078de5d",
   "metadata": {},
   "source": [
    "Write (and evaluate) C# expressions that answer these questions:\r\n",
    "a. How many letters are there in 'Supercalifragilisticexpialidocious'?"
   ]
  },
  {
   "cell_type": "markdown",
   "id": "972eb624-2263-4bc8-8101-560464969ee8",
   "metadata": {},
   "source": [
    "using System;\n",
    "\n",
    "class Count\n",
    "{\n",
    "    static void Main()\n",
    "    {\n",
    "        string word = \"Supercalifragilisticexpialidocious\";\n",
    "        int length = word.Length;// word count\n",
    "        \n",
    "        Console.WriteLine($\"The number of letters in '{word}' is: {length}\");// print word and counts\n",
    "    }\n",
    "}"
   ]
  },
  {
   "cell_type": "markdown",
   "id": "30f4a80d-452e-4077-8871-47ef25ab5cb3",
   "metadata": {},
   "source": [
    "Output:\n",
    "The number of letters in 'Supercalifragilisticexpialidocious' is: 34"
   ]
  },
  {
   "cell_type": "markdown",
   "id": "f84e92a7-cdbe-487f-8727-06d1f07a3ce0",
   "metadata": {},
   "source": [
    "b. Does 'Supercalifragilisticexpialidocious' contain 'ice' as a substring?"
   ]
  },
  {
   "cell_type": "markdown",
   "id": "3d2c98d1-6d58-4cfb-a0d9-1cf54f4e2465",
   "metadata": {},
   "source": [
    "using System;\n",
    "\n",
    "class Icestring\n",
    "{\n",
    "    static void Main()\n",
    "    {\n",
    "        string word = \"Supercalifragilisticexpialidocious\";\n",
    "        string substring = \"ice\";\n",
    "        bool containsSubstring = word.Contains(substring); // scan word by word to find substring\n",
    "        \n",
    "        if (containsSubstring) \n",
    "        {\n",
    "            Console.WriteLine($\"Yes, '{word}' contains '{substring}' as a substring.\");// if ice is find in substring this section will be printed\n",
    "        }\n",
    "        else\n",
    "        {\n",
    "            Console.WriteLine($\"No, '{word}' does not contain '{substring}' as a substring.\");//if ice is not find in substring this section will be printed \n",
    "        }\n",
    "    }\n",
    "}"
   ]
  },
  {
   "cell_type": "markdown",
   "id": "bdb7503f-f42a-4079-9328-bac11b7763a8",
   "metadata": {},
   "source": [
    "Output:\n",
    "Yes, 'Supercalifragilisticexpialidocious' contains 'ice' as a substring."
   ]
  },
  {
   "cell_type": "markdown",
   "id": "ce2ad05b-9d59-4dee-9977-598a4018b460",
   "metadata": {},
   "source": [
    "c. Which of the following words is the longest: Supercalifragilisticexpialidocious, Honorificabilitudinitatibus, or Bababadalgharaghtakamminarronnkonn?"
   ]
  },
  {
   "cell_type": "markdown",
   "id": "47a3b81f-2333-4bc6-8c3c-48e93ddb6532",
   "metadata": {},
   "source": [
    "using System;\r\n",
    "\r\n",
    "class LongString\r\n",
    "{\r\n",
    "    static void Main()\r\n",
    "    {\r\n",
    "        // define the words\r\n",
    "        string word1 = \"Supercalifragilisticexpialidocious\";\r\n",
    "        string word2 = \"Honorificabilitudinitatibus\";\r\n",
    "        string word3 = \"Bababadalgharaghtakamminarronnkonn\";\r\n",
    "        \r\n",
    "        // letter count\r\n",
    "        int length1 = word1.Length;\r\n",
    "        int length2 = word2.Length;\r\n",
    "        int length3 = word3.Length;\r\n",
    "        \r\n",
    "        // find the longest word\r\n",
    "        string longestWord = word1;\r\n",
    "        int longestLength = length1;\r\n",
    "        \r\n",
    "        if (length2 > longestLength)\r\n",
    "        {\r\n",
    "            longestWord = word2;\r\n",
    "            longestLength = length2;\r\n",
    "        }\r\n",
    "        \r\n",
    "        if (length3 > longestLength)\r\n",
    "        {\r\n",
    "            longestWord = word3;\r\n",
    "            longestLength = length3;\r\n",
    "        }\r\n",
    "        \r\n",
    "        // output the result\r\n",
    "        Console.WriteLine($\"The longest word is '{longestWord}' with {longestLength} letters.\");\r\n",
    "    }\r\n",
    "}\r\n"
   ]
  },
  {
   "cell_type": "markdown",
   "id": "9d2d31fc-d965-4ce9-8d80-269db2819eab",
   "metadata": {},
   "source": [
    "Output:\n",
    "The longest word is 'Supercalifragilisticexpialidocious' with 34 letters."
   ]
  },
  {
   "cell_type": "markdown",
   "id": "61898b8a-0f50-4422-bb02-7c6f7a409d63",
   "metadata": {},
   "source": [
    "d. Which composer comes first in the dictionary: 'Berlioz', 'Borodin', 'Brian', 'Bartok', 'Bellini', 'Buxtehude', 'Bernstein'. Which one comes last?"
   ]
  },
  {
   "cell_type": "markdown",
   "id": "ebe9d05e-6185-42f4-8bb9-22c5de5e0ad6",
   "metadata": {},
   "source": [
    "using System;\r\n",
    "\r\n",
    "class Composers\r\n",
    "{\r\n",
    "    static void Main()\r\n",
    "    {\r\n",
    "        // initalization of composers\r\n",
    "        string[] composers = { \"Berlioz\", \"Borodin\", \"Brian\", \"Bartok\", \"Bellini\", \"Buxtehude\", \"Bernstein\" };\r\n",
    "\r\n",
    "        // sort the composers by alphabetically\r\n",
    "        Array.Sort(composers);\r\n",
    "        \r\n",
    "        // get the first\r\n",
    "        string firstComposer = composers[0];\r\n",
    "\r\n",
    "        // Output the results\r\n",
    "        Console.WriteLine($\"The first composer in the dictionary is: {firstComposer}\");\r\n",
    "    }\r\n",
    "}\r\n"
   ]
  },
  {
   "cell_type": "markdown",
   "id": "02816407-e827-4cfe-8a6a-a2e9dc27b8f9",
   "metadata": {},
   "source": [
    "Output:\n",
    "The first composer in the dictionary is: Bartok"
   ]
  },
  {
   "cell_type": "markdown",
   "id": "85ab2c5f-b2cf-4f38-bc8b-d4ab2266c650",
   "metadata": {},
   "source": [
    "Question 3 C#\r\n",
    "Implement function triangleArea(a,b,c) that takes as input the lengths of the 3 sides of a triangle and returns the area of the triangle. By Heron's formula, the area of a triangle with side lengths a, b, and c is s(s − a)(s − b)(s − c), where\r\n",
    "s = (a + b + c)/2."
   ]
  },
  {
   "cell_type": "markdown",
   "id": "0fb3060f-9f57-419d-a611-7fa2f603aa1f",
   "metadata": {},
   "source": [
    "using System;\r\n",
    "\r\n",
    "class TriangleArea\r\n",
    "{\r\n",
    "    static void Main()\r\n",
    "    {\r\n",
    "        // take input from the user\r\n",
    "        Console.Write(\"Enter the length of side a: \");\r\n",
    "        double a = Convert.ToDouble(Console.ReadLine());\r\n",
    "        \r\n",
    "        Console.Write(\"Enter the length of side b: \");\r\n",
    "        double b = Convert.ToDouble(Console.ReadLine());\r\n",
    "        \r\n",
    "        Console.Write(\"Enter the length of side c: \");\r\n",
    "        double c = Convert.ToDouble(Console.ReadLine());\r\n",
    "\r\n",
    "        // calculate the area of the triangle\r\n",
    "        double area = triangleArea(a, b, c);\r\n",
    "        \r\n",
    "        // output the result\r\n",
    "        Console.WriteLine($\"The area of the triangle is: {area}\");\r\n",
    "    }\r\n",
    "\r\n",
    "    static double triangleArea(double a, double b, double c)\r\n",
    "    {\r\n",
    "        // calculate the semi-perimeter\r\n",
    "        double s = (a + b + c) / 2;\r\n",
    "\r\n",
    "        //  Heron's formula\r\n",
    "        double area = Math.Sqrt(s * (s - a) * (s - b) * (s - c));\r\n",
    "\r\n",
    "        return area;\r\n",
    "    }\r\n",
    "}\r\n"
   ]
  },
  {
   "cell_type": "markdown",
   "id": "06f3b408-6873-4464-aa9e-6e20b895cfe9",
   "metadata": {},
   "source": [
    "Output:\n",
    "Enter the length of side a: 2\r\n",
    "Enter the length of side b: 2\r\n",
    "Enter the length of side c: 2\r\n",
    "The area of the triangle is: 1.73205080756888\r\n",
    "\r\n",
    "=== Code Execution Successful ==="
   ]
  },
  {
   "cell_type": "markdown",
   "id": "b467fe40-2cb0-41c5-b6d6-e4b07394b8d2",
   "metadata": {},
   "source": [
    "Question 4 C#\n",
    "Write a program in C# Sharp to separate odd and even integers in separate arrays."
   ]
  },
  {
   "cell_type": "markdown",
   "id": "deb1dab0-8919-4358-820b-4d869959810e",
   "metadata": {},
   "source": [
    "referance: https://www.w3resource.com/csharp-exercises/array/csharp-array-exercise-10.php\n",
    "take help from this site and updated the code "
   ]
  },
  {
   "cell_type": "markdown",
   "id": "4e304d28-87cc-4d67-87ca-162ed3fab8f3",
   "metadata": {},
   "source": [
    "using System;\r\n",
    "\r\n",
    "public class OddEven \r\n",
    "{  \r\n",
    "    public static void Main() \r\n",
    "    {\r\n",
    "        // Declare arrays to hold integers\r\n",
    "\t    int[] arr1 = new int[10];  // First array to store user input\r\n",
    "\t    int[] arr2 = new int[10];  // Array to store even integers\r\n",
    "\t    int[] arr3 = new int[10];  // Array to store odd integers\r\n",
    "        int i, j = 0, k = 0, n;    // Declare variables for counting and user input\r\n",
    "\r\n",
    "        // Display a message prompting user to enter the number of elements to be stored in the array\r\n",
    "        Console.Write(\"\\n\\nSeparate odd and even integers in separate arrays:\\n\");\r\n",
    "        Console.Write(\"------------------------------------------------------\\n\");\t\r\n",
    "\r\n",
    "        Console.Write(\"Input the number of elements to be stored in the array :\");\r\n",
    "        n = Convert.ToInt32(Console.ReadLine()); // Read the number of elements entered by the user\r\n",
    "\r\n",
    "        // Prompt the user to input 'n' elements in the array\r\n",
    "        Console.Write(\"Input {0} elements in the array :\\n\", n);\r\n",
    "        for (i = 0; i < n; i++)\r\n",
    "        {\r\n",
    "            Console.Write(\"element - {0} : \", i);\r\n",
    "            arr1[i] = Convert.ToInt32(Console.ReadLine()); // Store user input in the first array\r\n",
    "        }\r\n",
    "\r\n",
    "        // Iterate through the first array to separate even and odd numbers into separate arrays\r\n",
    "        for (i = 0; i < n; i++)\r\n",
    "        {\r\n",
    "            if (arr1[i] % 2 == 0) // Check if the number is even\r\n",
    "            {\r\n",
    "                arr2[j] = arr1[i]; // Store even number in the second array\r\n",
    "                j++; // Increment the counter for the even array\r\n",
    "            }\r\n",
    "            else\r\n",
    "            {\r\n",
    "                arr3[k] = arr1[i]; // Store odd number in the third array\r\n",
    "                k++; // Increment the counter for the odd array\r\n",
    "            }\r\n",
    "        }\r\n",
    "\r\n",
    "        // Display even elements stored in the second array\r\n",
    "        Console.Write(\"\\nThe Even elements are : \\n\");\r\n",
    "        for (i = 0; i < j; i++)\r\n",
    "        {\r\n",
    "            Console.Write(\"{0} \", arr2[i]); // Print even numbers\r\n",
    "        }\r\n",
    "\r\n",
    "        // Display odd elements stored in the third array\r\n",
    "        Console.Write(\"\\nThe Odd elements are :\\n\");\r\n",
    "        for (i = 0; i < k; i++)\r\n",
    "        {\r\n",
    "            Console.Write(\"{0} \", arr3[i]); // Print odd numbers\r\n",
    "        }\r\n",
    "        Console.Write(\"\\n\\n\"); // Print a new line for formatting\r\n",
    "    }\t\r\n",
    "}\r\n",
    " "
   ]
  },
  {
   "cell_type": "markdown",
   "id": "e4d85c95-e964-4341-b667-6dcf9f386365",
   "metadata": {},
   "source": [
    "Output:\n",
    "\r",
    "Separate odd and even integers in separate arrays:\n",
    "\r\n",
    "------------------------------------------------------\r\n",
    "Input the number of elements to be stored in the array :5\r\n",
    "Input 5 elements in the array :\r\n",
    "element - 0 : 25\r\n",
    "element - 1 : 47\r\n",
    "element - 2 : 42\r\n",
    "element - 3 : 56\r\n",
    "element - 4 : 32\r\n",
    "\r\n",
    "The Even elements are : \r\n",
    "42 56 32 \r\n",
    "The Odd elements are :\r\n",
    "25 47 \r\n",
    "\r\n",
    "\r\n",
    "=== Code Execution Successful ===on Successful ==="
   ]
  },
  {
   "cell_type": "markdown",
   "id": "2eeb0592-d564-43a8-895d-5189706cef10",
   "metadata": {},
   "source": [
    "Question 5 C#\r\n",
    "a. Write a function inside(x,y,x1,y1,x2,y2) that returns True or False depending on whether the point (x,y) lies in the rectangle with lower left corner (x1,y1) and upper right corner (x2,y2)."
   ]
  },
  {
   "cell_type": "markdown",
   "id": "1d4584ad-02b2-4885-a4d3-dd7fd973b854",
   "metadata": {},
   "source": [
    "using System;\r\n",
    "\r\n",
    "class Rect\r\n",
    "{\r\n",
    "    // Function to check if a point (x, y) is inside the rectangle defined by (x1, y1) and (x2, y2)\r\n",
    "    static bool Inside(double x, double y, double x1, double y1, double x2, double y2)\r\n",
    "    {\r\n",
    "        return (x >= x1 && x <= x2 && y >= y1 && y <= y2);\r\n",
    "    }\r\n",
    "\r\n",
    "    static void Main()\r\n",
    "    {\r\n",
    "        // take user input from user\r\n",
    "        Console.WriteLine(\"Enter the x and y coordinates of the point, followed by the coordinates of the rectangle (x1, y1, x2, y2):\");\r\n",
    "        string input = Console.ReadLine();\r\n",
    "        \r\n",
    "        // split the input string into an array of strings\r\n",
    "        string[] values = input.Split(',');\r\n",
    "\r\n",
    "        // Ensure there are exactly 6 values\r\n",
    "        if (values.Length != 6)\r\n",
    "        {\r\n",
    "            Console.WriteLine(\"Please enter exactly 6 values separated by commas.\");\r\n",
    "            return;\r\n",
    "        }\r\n",
    "\r\n",
    "        // convert the values to doubles\r\n",
    "        double x = Convert.ToDouble(values[0].Trim());\r\n",
    "        double y = Convert.ToDouble(values[1].Trim());\r\n",
    "        double x1 = Convert.ToDouble(values[2].Trim());\r\n",
    "        double y1 = Convert.ToDouble(values[3].Trim());\r\n",
    "        double x2 = Convert.ToDouble(values[4].Trim());\r\n",
    "        double y2 = Convert.ToDouble(values[5].Trim());\r\n",
    "\r\n",
    "        bool result = Inside(x, y, x1, y1, x2, y2);\r\n",
    "\r\n",
    "        // Output the result as True or False\r\n",
    "        Console.WriteLine(result ? \"True\" : \"False\");\r\n",
    "    }\r\n",
    "}\r\n"
   ]
  },
  {
   "cell_type": "markdown",
   "id": "ad943390-048f-479c-8139-5cd8bdffb762",
   "metadata": {},
   "source": [
    "Output:\n",
    "Enter the x and y coordinates of the point, followed by the coordinates of the rectangle (x1, y1, x2, y2):\r\n",
    "1,1,0,0,2,3\r\n",
    "True\r\n",
    "\r\n",
    "=== Code Execution Successful ==="
   ]
  },
  {
   "cell_type": "markdown",
   "id": "b472cab8-00f1-430c-86d9-b19c828dc5a7",
   "metadata": {},
   "source": [
    "b. Use function inside() from part a. to write an expression that tests whether the point (1,1) lies in both of the following rectangles: one with lower left corner (0.3, 0.5) and upper right corner (1.1, 0.7) and the other with lower left corner (0.5, 0.2) and upper right corner (1.1, 2)."
   ]
  },
  {
   "cell_type": "markdown",
   "id": "74a3c203-08e2-4c25-85bb-a5e9b9dbdd1f",
   "metadata": {},
   "source": [
    "using System;\r\n",
    "\r\n",
    "class Program\r\n",
    "{\r\n",
    "    // Function to check if a point (x, y) is inside the rectangle defined by (x1, y1) and (x2, y2)\r\n",
    "    static bool Inside(double x, double y, double x1, double y1, double x2, double y2)\r\n",
    "    {\r\n",
    "        return (x >= x1 && x <= x2 && y >= y1 && y <= y2);\r\n",
    "    }\r\n",
    "\r\n",
    "    static void Main()\r\n",
    "    {\r\n",
    "        // Coordinates of the point to test\r\n",
    "        double pointX = 1;\r\n",
    "        double pointY = 1;\r\n",
    "\r\n",
    "        // Rectangle 1 coordinates (0.3, 0.5) to (1.1, 0.7)\r\n",
    "        double x1_rect1 = 0.3;\r\n",
    "        double y1_rect1 = 0.5;\r\n",
    "        double x2_rect1 = 1.1;\r\n",
    "        double y2_rect1 = 0.7;\r\n",
    "\r\n",
    "        // Rectangle 2 coordinates (0.5, 0.2) to (1.1, 2)\r\n",
    "        double x1_rect2 = 0.5;\r\n",
    "        double y1_rect2 = 0.2;\r\n",
    "        double x2_rect2 = 1.1;\r\n",
    "        double y2_rect2 = 2;\r\n",
    "\r\n",
    "        // Check if the point is inside both rectangles\r\n",
    "        bool insideRect1 = Inside(pointX, pointY, x1_rect1, y1_rect1, x2_rect1, y2_rect1);\r\n",
    "        bool insideRect2 = Inside(pointX, pointY, x1_rect2, y1_rect2, x2_rect2, y2_rect2);\r\n",
    "\r\n",
    "        // Output the results\r\n",
    "        Console.WriteLine($\"Point (1,1) inside Rectangle 1: {insideRect1}\");\r\n",
    "        Console.WriteLine($\"Point (1,1) inside Rectangle 2: {insideRect2}\");\r\n",
    "\r\n",
    "        // Check if the point is in both rectangles\r\n",
    "        bool isInBoth = insideRect1 && insideRect2;\r\n",
    "        Console.WriteLine($\"Point (1,1) is inside both rectangles: {isInBoth}\");\r\n",
    "    }\r\n",
    "}\r\n"
   ]
  },
  {
   "cell_type": "markdown",
   "id": "6583e8a5-7694-467f-b058-386603f0024f",
   "metadata": {},
   "source": [
    "Output:\n",
    "Point (1,1) inside Rectangle 1: False\r\n",
    "Point (1,1) inside Rectangle 2: True\r\n",
    "Point (1,1) is inside both rectangles: False\r\n",
    "\r\n",
    "=== Code Execution Successful ==="
   ]
  },
  {
   "cell_type": "code",
   "execution_count": 6,
   "id": "bf1b349a-3648-476f-b416-2528de34d05f",
   "metadata": {},
   "outputs": [
    {
     "name": "stdin",
     "output_type": "stream",
     "text": [
      "Enter a word:  Enter\n"
     ]
    },
    {
     "name": "stdout",
     "output_type": "stream",
     "text": [
      "enterway\n"
     ]
    }
   ],
   "source": [
    "def pig(word):\n",
    "    # Convert the word to lowercase\n",
    "    word = word.lower()\n",
    "    \n",
    "    # Check if the first letter is a vowel\n",
    "    if word[0] in 'aeiou':\n",
    "        return word + 'way'  # Append 'way' for words starting with a vowel\n",
    "    else:\n",
    "        return word[1:] + word[0] + 'ay'  # Move the first letter and append 'ay'\n",
    "\n",
    "# Get input from the user\n",
    "input_word = input(\"Enter a word: \")\n",
    "# Call the pig function and print the result\n",
    "print(pig(input_word))\n"
   ]
  },
  {
   "cell_type": "markdown",
   "id": "6e43999a-f6aa-4ced-aef0-02148896f1b9",
   "metadata": {},
   "source": [
    "Took help from this and update the code as per requirements\n",
    "Referance :https://stackoverflow.com/questions/60982439/pig-latin-string-conversion-in-python"
   ]
  },
  {
   "cell_type": "markdown",
   "id": "ff7f6c0e-30c3-4353-9963-cfdead09d953",
   "metadata": {},
   "source": [
    "Question 7 Python\n",
    "File bloodtype1.txt records blood-types of patients (A, B, AB, O or OO) at a clinic. Write a function bldcount() that reads the file with name name and reports (i.e., prints) how many patients there are in each bloodtype."
   ]
  },
  {
   "cell_type": "code",
   "execution_count": 8,
   "id": "bf875257-7e62-4829-8a76-d23c43370668",
   "metadata": {},
   "outputs": [
    {
     "name": "stdout",
     "output_type": "stream",
     "text": [
      "There are 15 patients of blood type A.\n",
      "There is 1 patient of blood type B.\n",
      "There are 13 patients of blood type AB.\n",
      "There are 15 patients of blood type O.\n",
      "There are 0 patients of blood type OO.\n"
     ]
    }
   ],
   "source": [
    "def bldcount(filename):\n",
    "    # Initialize to count blood types\n",
    "    blood_types = {'A': 0, 'B': 0, 'AB': 0, 'O': 0, 'OO': 0}\n",
    "    \n",
    "    try:\n",
    "        # Open and read the file\n",
    "        with open(filename, 'r') as file:\n",
    "            # Read blood types from the file\n",
    "            blood_list = file.read().strip().split()\n",
    "        \n",
    "        # Count each blood type\n",
    "        for blood in blood_list:\n",
    "            if blood in blood_types:\n",
    "                blood_types[blood] += 1\n",
    "        \n",
    "        # Print the counts in the specified format\n",
    "        print(f\"There are {blood_types['A']} patients of blood type A.\")\n",
    "        print(f\"There is {blood_types['B']} patient of blood type B.\")\n",
    "        print(f\"There are {blood_types['AB']} patients of blood type AB.\")\n",
    "        print(f\"There are {blood_types['O']} patients of blood type O.\")\n",
    "        print(f\"There are {blood_types['OO']} patients of blood type OO.\")\n",
    "    \n",
    "    except FileNotFoundError:\n",
    "        print(f\"The file '{filename}' was not found.\")\n",
    "    except Exception as e:\n",
    "        print(f\"An error occurred: {e}\")\n",
    "\n",
    "#fectch file from local folder\n",
    "bldcount('bloodtype1.txt')\n"
   ]
  },
  {
   "cell_type": "markdown",
   "id": "8583ee04-dbda-4e19-800c-5027dfc0c685",
   "metadata": {},
   "source": [
    "Question 8 Python\n",
    "Write a function curconv() that takes as input:\n",
    "1. a currency represented using a string (e.g., 'JPY' for the Japanese Yen or 'EUR' for the Euro)\n",
    "2. an amount\n",
    "and then converts and returns the amount in US dollars."
   ]
  },
  {
   "cell_type": "code",
   "execution_count": 33,
   "id": "2ba4a4b7-54c4-490b-9bd5-5f275dab40c8",
   "metadata": {},
   "outputs": [
    {
     "name": "stdin",
     "output_type": "stream",
     "text": [
      "Enter currency:  JPY\n",
      "Enter amount:  100\n"
     ]
    },
    {
     "name": "stdout",
     "output_type": "stream",
     "text": [
      "100.0 JPY is equal to 1.24140 USD.\n"
     ]
    }
   ],
   "source": [
    "def curconv(currency, amount):\n",
    "    currencies = {}\n",
    "\n",
    "    # Reading the file\n",
    "    with open('currencies.txt', 'r') as cur_file:  # Use 'with' to ensure the file is properly closed\n",
    "        lines = cur_file.readlines()\n",
    "\n",
    "    # Storing the currency in the key and its corresponding $ value in the value\n",
    "    for x in lines:\n",
    "        parts = x.strip().split('\\t')  # Split on tab characters\n",
    "        if len(parts) >= 2:  # Ensure there are at least two parts\n",
    "            currencies[parts[0]] = parts[1]  # Store the currency code and value\n",
    "\n",
    "    # Check if the currency is in the dictionary\n",
    "    if currency in currencies:\n",
    "        try:\n",
    "            value = float(currencies[currency])  # Convert the value to float\n",
    "            converted_amount = amount * value  # Convert amount to USD\n",
    "            print(f\"{amount} {currency} is equal to {converted_amount:.5f} USD.\")\n",
    "        except ValueError:\n",
    "            print(f\"Could not convert the value for {currency} to float.\")\n",
    "    else:\n",
    "        print(\"Currency not supported.\")\n",
    "\n",
    "\n",
    "currency = input(\"Enter currency: \")\n",
    "amount = float(input(\"Enter amount: \"))\n",
    "curconv(currency, amount)\n"
   ]
  },
  {
   "cell_type": "markdown",
   "id": "a4f8c546-1bd9-4e6e-b418-7ad762e1e835",
   "metadata": {},
   "source": [
    "Question 9 Python\r\n",
    "Each of the following will cause an exception (an error). Identify what type of exception each will cause."
   ]
  },
  {
   "cell_type": "markdown",
   "id": "297e2d5e-064c-4152-9ced-ee2e9d3626f0",
   "metadata": {},
   "source": [
    "Answer:\n",
    "Error\t                                                 Error message\n",
    "\n",
    "Adding incompatible variables (6 + 'a')\t                 TypeError\n",
    "\n",
    "Referring to the 12th item in a list of 10 items\t     IndexError\n",
    "\n",
    "Using a value out of range for a function \n",
    "(e.g., math.sqrt(-1.0))\t                                 ValueError\n",
    "\n",
    "Using an undeclared variable (e.g., print(x))\t         NameError\n",
    "\n",
    "Trying to open a non-existent file \n",
    "(e.g., mistyped file name)\t                             FileNotFoundError\n",
    "\n"
   ]
  },
  {
   "cell_type": "markdown",
   "id": "ffaa1570-f8f0-49d0-8ee1-11d4a27dbdcd",
   "metadata": {},
   "source": [
    "Question 10 Python\n",
    "Encryption is the process of hiding the meaning of a text by substituting letters in the message with other letters, according to some system. If the process is successful, no one but the intended recipient can understand the encrypted message. Cryptanalysis refers to attempts to undo the encryption, even if some details of the encryption are unknown (for example, if an encrypted message has been intercepted). The first step of cryptanalysis is often to build up a table of letter frequencies in the encrypted text. Assume that the string letters is already defined as 'abcdefghijklmnopqrstuvwxyz'. Write a function called frequencies() that takes a string as its only parameter, and returns a list of integers, showing the number of times each character appears in the text. Your function may ignore any characters that are not in letters."
   ]
  },
  {
   "cell_type": "code",
   "execution_count": 38,
   "id": "cde6ef06-ff90-4463-b0f6-bcf77e4e46cf",
   "metadata": {},
   "outputs": [
    {
     "name": "stdin",
     "output_type": "stream",
     "text": [
      "Enter the text:  The quick red fox got bored and went home\n"
     ]
    },
    {
     "name": "stdout",
     "output_type": "stream",
     "text": [
      "Letter frequencies: [1, 1, 1, 3, 5, 1, 1, 2, 1, 0, 1, 0, 1, 2, 4, 0, 1, 2, 0, 3, 1, 0, 1, 1, 0, 0]\n"
     ]
    }
   ],
   "source": [
    "def frequencies(text):\n",
    "    # Define the string of letters\n",
    "    letters = 'abcdefghijklmnopqrstuvwxyz'\n",
    "    \n",
    "    # Initialize a list of 26 zeros \n",
    "    freq_list = [0] * 26\n",
    "    \n",
    "    # Convert the text to lowercase \n",
    "    text = text.lower()\n",
    "    \n",
    "    # Count the frequency of each letter in the text\n",
    "    for char in text:\n",
    "        if char in letters:  # Check if the character is a letter\n",
    "            index = letters.index(char)  # Find the index of the letter\n",
    "            freq_list[index] += 1  # Increment the count for that letter\n",
    "            \n",
    "    return freq_list\n",
    "\n",
    "input_text = input(\"Enter the text: \")\n",
    "result = frequencies(input_text)\n",
    "print(\"Letter frequencies:\", result)\n"
   ]
  },
  {
   "cell_type": "code",
   "execution_count": null,
   "id": "21c0aebc-b19d-4729-8e12-0462bc8f806a",
   "metadata": {},
   "outputs": [],
   "source": []
  },
  {
   "cell_type": "code",
   "execution_count": null,
   "id": "505f24f5-73bd-40e5-a95a-a49dc0f5e1af",
   "metadata": {},
   "outputs": [],
   "source": []
  }
 ],
 "metadata": {
  "kernelspec": {
   "display_name": "Python 3 (ipykernel)",
   "language": "python",
   "name": "python3"
  },
  "language_info": {
   "codemirror_mode": {
    "name": "ipython",
    "version": 3
   },
   "file_extension": ".py",
   "mimetype": "text/x-python",
   "name": "python",
   "nbconvert_exporter": "python",
   "pygments_lexer": "ipython3",
   "version": "3.12.4"
  }
 },
 "nbformat": 4,
 "nbformat_minor": 5
}
